{
 "cells": [
  {
   "cell_type": "code",
   "execution_count": 1,
   "id": "34168e6d-6f69-4d1d-b794-5604b12fb040",
   "metadata": {},
   "outputs": [],
   "source": [
    "import pandas as pd\n",
    "import numpy as np\n",
    "import binance.client\n",
    "import math\n",
    "\n",
    "from consts import MacioPasswords, BinanceConsts\n",
    "\n",
    "class TradingAPI:\n",
    "    def __init__(self,api_key, api_secret):\n",
    "        self.Client = binance.client.Client(api_key, api_secret)\n",
    "\n",
    "    def get_avg_price(self,instrument):\n",
    "        return float(self.Client.get_avg_price(symbol=instrument)['price'])\n",
    "    \n",
    "    def get_ticker(self, instrument):\n",
    "        return self.Client.get_ticker(symbol = instrument)\n",
    "    \n",
    "    def get_asset_balance(self, instrument = 'USDT'):\n",
    "        #GET BALANCE OF GIVEN INSTRUMENT\n",
    "        return self.Client.get_asset_balance(asset = instrument)\n",
    "    \n",
    "    def buy(self, instrument, price = None):\n",
    "        \n",
    "        available_funds = float(self.get_asset_balance(instrument = 'USDT')['free'])\n",
    "        price = float(self.get_ticker(instrument)['bidPrice'] ) + 1/2\n",
    "\n",
    "        quantity = self.floor(available_funds / price,4)  \n",
    "        \n",
    "        print(\"Available funds {}\".format(available_funds))\n",
    "        print(\"Price {}\".format(price))\n",
    "        print(\"Quantity {}\".format(quantity))\n",
    "        \n",
    "        order = self.Client.create_order(\n",
    "            symbol=instrument,\n",
    "            side=BinanceConsts.SIDE_BUY,\n",
    "            type=BinanceConsts.ORDER_TYPE_LIMIT,\n",
    "            timeInForce=BinanceConsts.TIME_IN_FORCE_FOK,\n",
    "            quantity=quantity,\n",
    "            price=str(price))\n",
    "        \n",
    "        return order\n",
    "    \n",
    "    def sell(self, instrument, price = None):\n",
    "        #BTCUSDT -> BTC \n",
    "        price = float(self.get_ticker(instrument)['askPrice'] ) - 1/2\n",
    "        quantity = self.floor(float(self.get_asset_balance(instrument[:-4])['free']),4)\n",
    "        \n",
    "        \n",
    "        if quantity * price < 10:\n",
    "            order = {}\n",
    "            order['status'] = \"no asset\"\n",
    "            return order\n",
    "        \n",
    "        \n",
    "        order = self.Client.create_order(\n",
    "            symbol=instrument,\n",
    "            side=BinanceConsts.SIDE_SELL,\n",
    "            type=BinanceConsts.ORDER_TYPE_LIMIT,\n",
    "            timeInForce=BinanceConsts.TIME_IN_FORCE_FOK,\n",
    "            quantity=quantity,\n",
    "            price=str(price))\n",
    "        \n",
    "        return order\n",
    "    \n",
    "    def floor(self, x, decimal_points = 6):\n",
    "        power = 10 ** decimal_points\n",
    "        x *=power\n",
    "        x = math.floor(x)\n",
    "        x = x / power\n",
    "        return x\n",
    "    \n",
    "    \n",
    "        \n",
    "        \n",
    "    "
   ]
  },
  {
   "cell_type": "code",
   "execution_count": 2,
   "id": "4cd0bd45-30a7-45fa-8dfd-8b403252a6d0",
   "metadata": {},
   "outputs": [],
   "source": [
    "bocik = TradingAPI(MacioPasswords.api_key, MacioPasswords.api_secret)"
   ]
  },
  {
   "cell_type": "code",
   "execution_count": null,
   "id": "e8504297-40fc-4d53-9aad-8bcc7f48e7b8",
   "metadata": {},
   "outputs": [],
   "source": []
  },
  {
   "cell_type": "code",
   "execution_count": 3,
   "id": "66fa9c71-f339-460f-8950-90143fb45f16",
   "metadata": {},
   "outputs": [
    {
     "ename": "NameError",
     "evalue": "name 'price' is not defined",
     "output_type": "error",
     "traceback": [
      "\u001b[0;31m---------------------------------------------------------------------------\u001b[0m",
      "\u001b[0;31mNameError\u001b[0m                                 Traceback (most recent call last)",
      "\u001b[0;32m/tmp/ipykernel_1097399/3856168772.py\u001b[0m in \u001b[0;36m<module>\u001b[0;34m\u001b[0m\n\u001b[0;32m----> 1\u001b[0;31m \u001b[0mprint\u001b[0m\u001b[0;34m(\u001b[0m\u001b[0mprice\u001b[0m\u001b[0;34m)\u001b[0m\u001b[0;34m\u001b[0m\u001b[0;34m\u001b[0m\u001b[0m\n\u001b[0m",
      "\u001b[0;31mNameError\u001b[0m: name 'price' is not defined"
     ]
    }
   ],
   "source": [
    "print(price)"
   ]
  },
  {
   "cell_type": "code",
   "execution_count": 6,
   "id": "539d6348-e9e3-4709-a3c7-87311e507dc0",
   "metadata": {},
   "outputs": [
    {
     "name": "stdout",
     "output_type": "stream",
     "text": [
      "Available funds 55.68301447\n",
      "Price 3243.64\n",
      "Quantity 0.0171\n"
     ]
    },
    {
     "data": {
      "text/plain": [
       "{'symbol': 'ETHUSDT',\n",
       " 'orderId': 5584591428,\n",
       " 'orderListId': -1,\n",
       " 'clientOrderId': '9bwMvcjsl7CrsgUFdRlbXt',\n",
       " 'transactTime': 1630155037781,\n",
       " 'price': '3243.64000000',\n",
       " 'origQty': '0.01710000',\n",
       " 'executedQty': '0.01710000',\n",
       " 'cummulativeQuoteQty': '55.45786500',\n",
       " 'status': 'FILLED',\n",
       " 'timeInForce': 'FOK',\n",
       " 'type': 'LIMIT',\n",
       " 'side': 'BUY',\n",
       " 'fills': [{'price': '3243.15000000',\n",
       "   'qty': '0.01710000',\n",
       "   'commission': '0.00001710',\n",
       "   'commissionAsset': 'ETH',\n",
       "   'tradeId': 578450066}]}"
      ]
     },
     "execution_count": 6,
     "metadata": {},
     "output_type": "execute_result"
    }
   ],
   "source": [
    "bocik.buy('ETHUSDT')"
   ]
  },
  {
   "cell_type": "code",
   "execution_count": 7,
   "id": "23e0aa58-bb0b-428c-9a73-7cdaeab7435f",
   "metadata": {},
   "outputs": [
    {
     "data": {
      "text/plain": [
       "{'asset': 'ETH', 'free': '0.01718129', 'locked': '0.00000000'}"
      ]
     },
     "execution_count": 7,
     "metadata": {},
     "output_type": "execute_result"
    }
   ],
   "source": [
    "bocik.get_asset_balance('ETH')"
   ]
  },
  {
   "cell_type": "code",
   "execution_count": 8,
   "id": "8c71950a-a1af-44bb-8ec7-13190bb9812e",
   "metadata": {},
   "outputs": [
    {
     "data": {
      "text/plain": [
       "{'symbol': 'ETHUSDT',\n",
       " 'orderId': 5584592244,\n",
       " 'orderListId': -1,\n",
       " 'clientOrderId': 'iGnZAsIU6NpGCmNshK0E2F',\n",
       " 'transactTime': 1630155045711,\n",
       " 'price': '3242.73000000',\n",
       " 'origQty': '0.01710000',\n",
       " 'executedQty': '0.01710000',\n",
       " 'cummulativeQuoteQty': '55.45359000',\n",
       " 'status': 'FILLED',\n",
       " 'timeInForce': 'FOK',\n",
       " 'type': 'LIMIT',\n",
       " 'side': 'SELL',\n",
       " 'fills': [{'price': '3242.90000000',\n",
       "   'qty': '0.01710000',\n",
       "   'commission': '0.05545359',\n",
       "   'commissionAsset': 'USDT',\n",
       "   'tradeId': 578450110}]}"
      ]
     },
     "execution_count": 8,
     "metadata": {},
     "output_type": "execute_result"
    }
   ],
   "source": [
    "bocik.sell('ETHUSDT')"
   ]
  },
  {
   "cell_type": "code",
   "execution_count": 9,
   "id": "76fbbade-aeb1-48e8-8575-923d30de25db",
   "metadata": {},
   "outputs": [
    {
     "data": {
      "text/plain": [
       "{'asset': 'USDT', 'free': '55.62328588', 'locked': '0.00000000'}"
      ]
     },
     "execution_count": 9,
     "metadata": {},
     "output_type": "execute_result"
    }
   ],
   "source": [
    "bocik.get_asset_balance('USDT')"
   ]
  },
  {
   "cell_type": "code",
   "execution_count": 10,
   "id": "a4df6b49-365c-4b9c-9c0b-7ae8d6830896",
   "metadata": {},
   "outputs": [
    {
     "data": {
      "text/plain": [
       "{'asset': 'ETH', 'free': '0.00008129', 'locked': '0.00000000'}"
      ]
     },
     "execution_count": 10,
     "metadata": {},
     "output_type": "execute_result"
    }
   ],
   "source": [
    "bocik.get_asset_balance('ETH')"
   ]
  },
  {
   "cell_type": "code",
   "execution_count": null,
   "id": "d97d791c-a4b2-4eae-a5e3-975131d84e6c",
   "metadata": {},
   "outputs": [],
   "source": []
  }
 ],
 "metadata": {
  "kernelspec": {
   "display_name": "Python 3 (ipykernel)",
   "language": "python",
   "name": "python3"
  },
  "language_info": {
   "codemirror_mode": {
    "name": "ipython",
    "version": 3
   },
   "file_extension": ".py",
   "mimetype": "text/x-python",
   "name": "python",
   "nbconvert_exporter": "python",
   "pygments_lexer": "ipython3",
   "version": "3.8.10"
  }
 },
 "nbformat": 4,
 "nbformat_minor": 5
}
