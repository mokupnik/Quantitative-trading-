{
 "cells": [
  {
   "cell_type": "code",
   "execution_count": 1,
   "id": "b039cf5c-8bf9-4b0e-9962-076714cba68c",
   "metadata": {},
   "outputs": [],
   "source": [
    "import pandas as pd\n",
    "import numpy as np\n",
    "from datetime import datetime\n",
    "import urllib3\n",
    "import httpimport\n",
    "import time\n",
    "from datetime import timedelta, datetime\n",
    "from TradingAPI import TradingAPI\n",
    "from consts import MacioPasswords\n",
    "\n",
    "with httpimport.github_repo(\n",
    "    \"DZAlpha\", \"utility\", module='influx'\n",
    "):\n",
    "    from influx import InfluxClient"
   ]
  },
  {
   "cell_type": "code",
   "execution_count": 2,
   "id": "1830a584-9633-4b90-ae83-9efc9e5ce43e",
   "metadata": {},
   "outputs": [],
   "source": [
    "bucket = \"my-bucket\"\n",
    "org = \"ask-org\"\n",
    "token = \"kLRh4PbhH-N7I7a0qWCkkClf1zzJFgd_u2AUZoa0_2AYXd-ow-KqAXTvi4UFyO9Dfw4vTuQRD0UZzY9S9xS4_w==\"\n",
    "url=\"http://bogactwo.ii.uni.wroc.pl:8086\"\n",
    "\n",
    "database_demo = InfluxClient(url=url,bucket=bucket, org=org, token=token)"
   ]
  },
  {
   "cell_type": "code",
   "execution_count": 3,
   "id": "f022fb6d-12dd-45f5-ab8f-96866dfe8f1f",
   "metadata": {},
   "outputs": [
    {
     "name": "stdout",
     "output_type": "stream",
     "text": [
      "from (bucket:\"my-bucket\")|> range(start: 2021-08-29T20:00:00Z, stop: 2021-08-29T20:00:01Z)|> filter(fn: (r) => r[\"_measurement\"] == \"ETHUSDT\")|> filter(fn: (r) => r[\"metric\"] == \"model2d\")|> filter(fn: (r) => r[\"_field\"] == \"scaled_forward_return\")\n"
     ]
    },
    {
     "data": {
      "text/plain": [
       "0"
      ]
     },
     "execution_count": 3,
     "metadata": {},
     "output_type": "execute_result"
    }
   ],
   "source": [
    "\n",
    "query_params={'metric': 'model2d','from_time' : '2021-08-29-20:00', 'to_time': '2021-08-29-20:00', 'currency': 'ETHUSDT','fields': ['scaled_forward_return']}\n",
    "query = database_demo.parse_query(**query_params)\n",
    "print(query)\n",
    "preds = database_demo.execute_query(query)\n",
    "preds.shape[0]"
   ]
  },
  {
   "cell_type": "code",
   "execution_count": 69,
   "id": "8b52851f-5e3b-4243-9d2e-4e8108bebedd",
   "metadata": {},
   "outputs": [],
   "source": [
    "class AlphaTrader:\n",
    "    def __init__(self,\n",
    "                currency,\n",
    "                predicted_currency,\n",
    "                time,\n",
    "                threshold,\n",
    "                database):\n",
    "        self.time=time\n",
    "        self.currency=currency\n",
    "        self.predicted_currency=predicted_currency\n",
    "        self.threshold=threshold\n",
    "        self.database=database\n",
    "        self.buy=''\n",
    "        self.tradingAPI=TradingAPI(MacioPasswords.api_key, MacioPasswords.api_secret)\n",
    "        self.feedback={}\n",
    "        \n",
    "    def fetch_prediction(self):\n",
    "        query_params={'metric': 'model2d','from_time' : self.time, 'to_time': self.time, 'currency': self.predicted_currency ,'fields': ['scaled_forward_return']}\n",
    "        query = self.database.parse_query(**query_params)\n",
    "        while True:\n",
    "            print(datetime.now())\n",
    "            \n",
    "            prediction = self.database.execute_query(query)\n",
    "            if prediction.shape[0]:\n",
    "                if float(prediction['_value']) > self.threshold:\n",
    "                    self.buy='buy'\n",
    "                elif float(prediction['_value'])> 0:\n",
    "                    self.buy = 'hold'\n",
    "                else: \n",
    "                    self.buy='sell'\n",
    "                print(float(prediction['_value']))\n",
    "                break\n",
    "            if datetime.now().second > 30:\n",
    "                break\n",
    "            time.sleep(1)\n",
    "            \n",
    "    \n",
    "    def attempt_transaction(self):\n",
    "        for i in range(5):\n",
    "            if self.buy=='buy':\n",
    "                self.feedback=self.tradingAPI.buy(self.currency)\n",
    "            elif self.buy=='hold':\n",
    "                break\n",
    "            elif self.buy=='sell': \n",
    "                self.feedback=self.tradingAPI.sell(self.currency)\n",
    "            if self.feedback['status'] == 'FILLED':\n",
    "                print('succesful',self.feedback['side'],'with price of', self.feedback['price'])\n",
    "                break\n",
    "            if self.feedback['status'] =='NO ASSET':\n",
    "                print('cannot', self.buy, 'because of unsifficient assets')\n",
    "                break\n",
    "            time.sleep(1)\n",
    "        \n",
    "    def save_transaction(self):\n",
    "        if self.feedback['status']=='FILLED':\n",
    "            kwargs={self.buy:self.feedback['price']}\n",
    "            self.database.save(self.currency, 'Trader', self.time, **kwargs)\n",
    "            if self.buy=='sell':\n",
    "                balance=self.tradingAPI.get_asset_balance('USDT')['free']\n",
    "                kwargs={'balance':balance}\n",
    "                self.database.save(self.currency, 'Trader', self.time, **kwargs)"
   ]
  },
  {
   "cell_type": "code",
   "execution_count": 159,
   "id": "29ed877d-8098-40b5-831e-ce664426482b",
   "metadata": {},
   "outputs": [],
   "source": [
    "Artiz = AlphaTrader('ETHUSDT', 'BTCUSDT', b, 0.02, database_demo)"
   ]
  },
  {
   "cell_type": "code",
   "execution_count": 167,
   "id": "1b7f13e0-a8e6-4100-baae-897590ce02eb",
   "metadata": {},
   "outputs": [],
   "source": [
    "a = Artiz.tradingAPI.get_asset_balance('USDT')['free']"
   ]
  },
  {
   "cell_type": "code",
   "execution_count": 168,
   "id": "56f14145-b11a-4c73-ada7-0bdf34b49573",
   "metadata": {},
   "outputs": [
    {
     "data": {
      "text/plain": [
       "56.99059597"
      ]
     },
     "execution_count": 168,
     "metadata": {},
     "output_type": "execute_result"
    }
   ],
   "source": [
    "float(a)"
   ]
  },
  {
   "cell_type": "code",
   "execution_count": 117,
   "id": "c6f80cb3-80be-4771-af41-eac32b434c3e",
   "metadata": {},
   "outputs": [
    {
     "data": {
      "text/plain": [
       "'55.91132311'"
      ]
     },
     "execution_count": 117,
     "metadata": {},
     "output_type": "execute_result"
    }
   ],
   "source": [
    "a"
   ]
  },
  {
   "cell_type": "code",
   "execution_count": 160,
   "id": "4e5f59fd-1316-4927-bba0-7f89d4dd8f86",
   "metadata": {},
   "outputs": [
    {
     "name": "stdout",
     "output_type": "stream",
     "text": [
      "2021-08-30 19:32:00.758849\n",
      "0.018713924726739856\n"
     ]
    }
   ],
   "source": [
    "Artiz.fetch_prediction()"
   ]
  },
  {
   "cell_type": "code",
   "execution_count": 111,
   "id": "594ef63d-a427-449a-807c-c7ec158bb701",
   "metadata": {},
   "outputs": [
    {
     "data": {
      "text/plain": [
       "{'status': 'NO ASSET'}"
      ]
     },
     "execution_count": 111,
     "metadata": {},
     "output_type": "execute_result"
    }
   ],
   "source": [
    "Artiz.feedback"
   ]
  },
  {
   "cell_type": "code",
   "execution_count": 101,
   "id": "40beab4e-3156-43d2-8400-c335768b359b",
   "metadata": {},
   "outputs": [
    {
     "name": "stdout",
     "output_type": "stream",
     "text": [
      "cannot  because of unsifficient assets\n"
     ]
    }
   ],
   "source": [
    "Artiz.attempt_transaction()"
   ]
  },
  {
   "cell_type": "code",
   "execution_count": 103,
   "id": "32810cfb-053a-46a0-9a31-935731dee8ec",
   "metadata": {},
   "outputs": [
    {
     "data": {
      "text/plain": [
       "'NO ASSET'"
      ]
     },
     "execution_count": 103,
     "metadata": {},
     "output_type": "execute_result"
    }
   ],
   "source": [
    "Artiz.feedback['status']\n"
   ]
  },
  {
   "cell_type": "code",
   "execution_count": 66,
   "id": "85f240d4-a828-4edf-aeb2-208796ae7f9b",
   "metadata": {},
   "outputs": [
    {
     "data": {
      "text/plain": [
       "{'status': 'FILLED', 'price': 8000}"
      ]
     },
     "execution_count": 66,
     "metadata": {},
     "output_type": "execute_result"
    }
   ],
   "source": [
    "Artiz.feedback"
   ]
  },
  {
   "cell_type": "code",
   "execution_count": 67,
   "id": "889884e5-a1ba-4022-a2ad-206c7b60077f",
   "metadata": {},
   "outputs": [],
   "source": [
    "Artiz.save_transaction()"
   ]
  },
  {
   "cell_type": "code",
   "execution_count": 142,
   "id": "eb346306-e67e-4bf4-8930-98e4c9d4015d",
   "metadata": {},
   "outputs": [],
   "source": [
    "current_time = pd.Timestamp('2021-08-30T19:10:00+00:00', tz='utc', unit='ms') + timedelta(minutes=5)"
   ]
  },
  {
   "cell_type": "code",
   "execution_count": 158,
   "id": "5b820a37-338b-4aa1-a205-9c4489446fcf",
   "metadata": {},
   "outputs": [
    {
     "data": {
      "text/plain": [
       "'2021-08-30-19:25'"
      ]
     },
     "execution_count": 158,
     "metadata": {},
     "output_type": "execute_result"
    }
   ],
   "source": [
    "b = str(current_time)\n",
    "b = parse_date('2021-08-30T19:20:00+00:00')\n",
    "b"
   ]
  },
  {
   "cell_type": "code",
   "execution_count": 131,
   "id": "771b3697-a6f7-4f06-8f6b-1c8c63bc0e2e",
   "metadata": {},
   "outputs": [
    {
     "data": {
      "text/plain": [
       "'2018-01-01-00:05'"
      ]
     },
     "execution_count": 131,
     "metadata": {},
     "output_type": "execute_result"
    }
   ],
   "source": [
    "def parse_date(date):\n",
    "    date_str = str(pd.Timestamp(date,tz='utc', unit='ms') + timedelta(minutes=5))\n",
    "    return date_str[:10]+'-'+date_str[11:16]\n",
    "parse_date('2018-01-01T00:00:00+00:00')"
   ]
  },
  {
   "cell_type": "code",
   "execution_count": 83,
   "id": "5934ef0d-5d04-49d3-82b7-4ae5ae1e432a",
   "metadata": {},
   "outputs": [],
   "source": [
    "input_time = pd.Timestamp(\n",
    "        datetime(\n",
    "            current_time.year,\n",
    "            current_time.month,\n",
    "            current_time.day,\n",
    "            current_time.hour,\n",
    "            current_time.minute\n",
    "        ),\n",
    "        tz='utc',\n",
    "        unit='ms'\n",
    "    )"
   ]
  },
  {
   "cell_type": "code",
   "execution_count": 86,
   "id": "ac244b46-8414-4dc7-93fe-5c0f667da8d6",
   "metadata": {},
   "outputs": [
    {
     "data": {
      "text/plain": [
       "'2018-1-1-0:5'"
      ]
     },
     "execution_count": 86,
     "metadata": {},
     "output_type": "execute_result"
    }
   ],
   "source": [
    "'{}-{}-{}-{}:{}'.format(a.year, a.month, a.day, a.hour, a.minute)"
   ]
  },
  {
   "cell_type": "code",
   "execution_count": 93,
   "id": "6873e5eb-14ee-4370-98fb-6391563c3b31",
   "metadata": {},
   "outputs": [],
   "source": [
    "b= '2018-01-01T00:00:00+00:00'"
   ]
  },
  {
   "cell_type": "code",
   "execution_count": 96,
   "id": "5e3adb26-1fc7-4d21-b7da-7cc741e9058f",
   "metadata": {},
   "outputs": [],
   "source": [
    "dt = b[:10]+'-'+b[11:16]"
   ]
  },
  {
   "cell_type": "code",
   "execution_count": 97,
   "id": "17fde7cf-37b7-4092-9cb6-1eed701bd405",
   "metadata": {},
   "outputs": [
    {
     "data": {
      "text/plain": [
       "'2018-01-01-00:00'"
      ]
     },
     "execution_count": 97,
     "metadata": {},
     "output_type": "execute_result"
    }
   ],
   "source": [
    "dt"
   ]
  }
 ],
 "metadata": {
  "kernelspec": {
   "display_name": "Python 3 (ipykernel)",
   "language": "python",
   "name": "python3"
  },
  "language_info": {
   "codemirror_mode": {
    "name": "ipython",
    "version": 3
   },
   "file_extension": ".py",
   "mimetype": "text/x-python",
   "name": "python",
   "nbconvert_exporter": "python",
   "pygments_lexer": "ipython3",
   "version": "3.8.10"
  }
 },
 "nbformat": 4,
 "nbformat_minor": 5
}
