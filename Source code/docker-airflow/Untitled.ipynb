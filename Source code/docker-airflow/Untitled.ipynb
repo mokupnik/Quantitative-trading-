{
 "cells": [
  {
   "cell_type": "code",
   "execution_count": null,
   "id": "aae22165",
   "metadata": {},
   "outputs": [],
   "source": [
    "from __future__ import print_function\n",
    "\n",
    "import sys\n",
    "from airflow import models, settings\n",
    "from airflow.contrib.auth.backends.password_auth import PasswordUser\n",
    "\n",
    "user = PasswordUser(models.User())\n",
    "user.username = sys.argv[1]\n",
    "user.email = sys.argv[2]\n",
    "user.password = sys.argv[3]\n",
    "session = settings.Session()\n",
    "session.add(user)\n",
    "try:\n",
    "    session.commit()\n",
    "except:\n",
    "    print(\"User already exists.\")\n",
    "session.close()\n",
    "exit()"
   ]
  }
 ],
 "metadata": {
  "kernelspec": {
   "display_name": "Python 3 (ipykernel)",
   "language": "python",
   "name": "python3"
  },
  "language_info": {
   "codemirror_mode": {
    "name": "ipython",
    "version": 3
   },
   "file_extension": ".py",
   "mimetype": "text/x-python",
   "name": "python",
   "nbconvert_exporter": "python",
   "pygments_lexer": "ipython3",
   "version": "3.8.10"
  }
 },
 "nbformat": 4,
 "nbformat_minor": 5
}
